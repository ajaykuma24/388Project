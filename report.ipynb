{
 "cells": [
  {
   "cell_type": "markdown",
   "metadata": {},
   "source": [
    "# Reddit Political Analysis\n",
    "## Insight to behavior of Politically Active Redditors"
   ]
  },
  {
   "cell_type": "markdown",
   "metadata": {},
   "source": [
    "## Introduction\n",
    "\n",
    "### Reddit as a Social Network\n",
    "\n",
    "This report deals heavily with the nature of reddit and how users interact with the platform. As such, it is imperative that first these characteristics are outlined, and fully understood, as they form the presmise of our analysis and later discussion.\n",
    "\n",
    "Reddit is a social media network centered around forum-based interactions. Lying somewhere in between 4Chan and Facebook, Reddit shifts focus away from the user, focusing instead on content-specific communities, while not going so far as to be completely anonymous. These communitites tend to be cliquey, in that they tend to have specific vernacular in the form of inside jokes and jargon: for instance, HighQualityGifs tends to have meta-discussion on GIF-making. However, users are not restricted to a single community and can participate in all of them. This leads to the the two most important, characteristics of the Reddit: \n",
    "    \n",
    "1. Reddit is essentially comprised of Subreddits\n",
    "2. Users interact on Subreddits, and are free to do so on any subreddit.\n",
    "    \n",
    "### Political Activism on Reddit\n",
    "\n",
    "Reddit is highly politically active. The platform lends itself to confrontation and conversation between people of varying backgrounds and political leanings, more-so than Facebook, and even Twitter, as people aren't restricted by their own friend circles. Differing political factions pour out of their respective subreddits into common spaces across Reddit, influencing the nature of discussion in the mainstream. More-so, the platform is an important source of news to manny of its users. According to a study by the Pew Research Center, though only less than 1 in 10 American Adults use Reddit, more than 7 in 10 of users rely on it as their primary news source. This means that Reddit is an important place to look to see how people consume news in the Age of the Internet. \n",
    "\n",
    "The epicenter of political activism on the platform lies in . There are subreddits for most every type of political affiliation, though some more extreme ideologies have had their subreddits shut down i.e r/nationalsocialism. The most famous of these subreddits is r/The_Donald, with 600,000 subs. The_Donald is notorious across the platform for being highly insular, really only having content that conforms to what the community wants to hear. This is true for most if all of the subreddits on both the left and right. \n",
    "\n",
    "### The Problem: \n",
    "\n",
    "All this being said, what we wanted to look at was just how insular Reddit is, evaulating whether Reddit could reasonably split into a \"Left\" and \"Right\" reddit, each running in their own echo chambers. This is a point of interest because it would let us get a better understanding of:\n",
    "\n",
    "1. Reddit's efficacy as an informative News Source\n",
    "2. Organic Organization of Political Activist groups\n",
    "3. The differing structure of \"Leftist\" Reddit and \"Right\" Reddit."
   ]
  },
  {
   "cell_type": "markdown",
   "metadata": {
    "collapsed": true
   },
   "source": [
    "## Data Collection\n",
    "HALp"
   ]
  },
  {
   "cell_type": "code",
   "execution_count": null,
   "metadata": {
    "collapsed": true
   },
   "outputs": [],
   "source": [
    "import praw, json, sys\n",
    "from pprint import pprint\n",
    "\n",
    "reddit = praw.Reddit(client_id=sys.argv[1],\n",
    "                     client_secret=sys.argv[2],\n",
    "                     user_agent='Mozilla/5.0 (X11; Linux x86_64) AppleWebKit/537.36 \\\n",
    "                     (KHTML, like Gecko) Chrome/44.0.2403.157 Safari/537.36')\n",
    "sub = sys.argv[3].lower()\n",
    "print(sub)\n",
    "\n",
    "users = set()\n",
    "usernames = set()\n",
    "user_subs = dict()\n",
    "\n",
    "with open('users/' + sub + '.json', 'w') as f:\n",
    "    subreddit = reddit.subreddit(sub)\n",
    "    for post in subreddit.top('month'): # search 100 top posts of the month\n",
    "        post.comments.replace_more(limit=None) # all comments on each post\n",
    "        comments = post.comments.list()\n",
    "        for comment in comments:\n",
    "            if comment.author != None:\n",
    "                users.add(comment.author)\n",
    "                usernames.add(comment.author.name)\n",
    "                subs = user_subs.get(comment.author.name, set())\n",
    "                subs.add(sub)\n",
    "                user_subs[comment.author.name] = subs\n",
    "\n",
    "    json.dump(list(usernames), f, separators=(',', ':'))\n",
    "\n",
    "print(len(usernames))\n",
    "with open('subs/' + sub + '.json', 'w') as f:\n",
    "    for user in list(users):\n",
    "        try:\n",
    "            for comment in user.comments.top('month'): # search 100 top comments\n",
    "                subs = user_subs[user.name]\n",
    "                subs.add(str(comment.subreddit).lower())\n",
    "                user_subs[user.name] = subs\n",
    "        except:\n",
    "            pass\n",
    "    for user in user_subs:\n",
    "        user_subs[user] = list(user_subs[user])\n",
    "    json.dump(user_subs, f, separators=(',', ':'))\n",
    "print(\"done\")"
   ]
  },
  {
   "cell_type": "markdown",
   "metadata": {},
   "source": [
    "##  Classification"
   ]
  },
  {
   "cell_type": "code",
   "execution_count": null,
   "metadata": {
    "collapsed": true
   },
   "outputs": [],
   "source": []
  }
 ],
 "metadata": {
  "kernelspec": {
   "display_name": "Python 3",
   "language": "python",
   "name": "python3"
  },
  "language_info": {
   "codemirror_mode": {
    "name": "ipython",
    "version": 3
   },
   "file_extension": ".py",
   "mimetype": "text/x-python",
   "name": "python",
   "nbconvert_exporter": "python",
   "pygments_lexer": "ipython3",
   "version": "3.6.3"
  }
 },
 "nbformat": 4,
 "nbformat_minor": 2
}
