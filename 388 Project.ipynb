{
 "cells": [
  {
   "cell_type": "markdown",
   "metadata": {},
   "source": [
    "HALP"
   ]
  },
  {
   "cell_type": "code",
   "execution_count": 19,
   "metadata": {
    "collapsed": true
   },
   "outputs": [],
   "source": [
    "import json\n",
    "import numpy as np"
   ]
  },
  {
   "cell_type": "code",
   "execution_count": 3,
   "metadata": {},
   "outputs": [],
   "source": [
    "with open('reddit data/all_subs.json') as subs_json:\n",
    "    subreddits = json.load(subs_json)"
   ]
  },
  {
   "cell_type": "code",
   "execution_count": null,
   "metadata": {},
   "outputs": [],
   "source": [
    "print(subreddits)"
   ]
  },
  {
   "cell_type": "code",
   "execution_count": 6,
   "metadata": {
    "collapsed": true
   },
   "outputs": [],
   "source": [
    "with open('reddit data/left.json') as left_json:\n",
    "    left = json.load(left_json)\n",
    "with open('reddit data/right.json') as right_json:\n",
    "    right = json.load(right_json)"
   ]
  },
  {
   "cell_type": "code",
   "execution_count": 15,
   "metadata": {},
   "outputs": [
    {
     "name": "stdout",
     "output_type": "stream",
     "text": [
      "Left User Count: 22059, Right User Count: 17999\n"
     ]
    }
   ],
   "source": [
    "print(\"Left User Count: %d, Right User Count: %d\" % (len(left), len(right)))"
   ]
  },
  {
   "cell_type": "code",
   "execution_count": 17,
   "metadata": {},
   "outputs": [],
   "source": [
    "all_data = []\n",
    "\n",
    "for _, subs in left.items():\n",
    "    all_data.append(subs)\n",
    "    \n",
    "\n",
    "for _, subs in right.items():\n",
    "    all_data.append(subs)"
   ]
  },
  {
   "cell_type": "code",
   "execution_count": 21,
   "metadata": {},
   "outputs": [],
   "source": [
    "from sklearn.preprocessing import MultiLabelBinarizer\n",
    "\n",
    "num_samples = len(left) + len(right)\n",
    "num_subs = len(subreddits)\n",
    "\n",
    "samples = np.empty((num_samples, num_subs))\n",
    "\n",
    "mlb = MultiLabelBinarizer()\n",
    "\n",
    "converted_data = mlb.fit_transform(all_data)\n",
    "\n",
    "\n"
   ]
  },
  {
   "cell_type": "code",
   "execution_count": 25,
   "metadata": {},
   "outputs": [
    {
     "name": "stdout",
     "output_type": "stream",
     "text": [
      "40058\n",
      "18069\n",
      "18069\n"
     ]
    }
   ],
   "source": [
    "print(len(converted_data))"
   ]
  },
  {
   "cell_type": "code",
   "execution_count": 49,
   "metadata": {},
   "outputs": [
    {
     "name": "stdout",
     "output_type": "stream",
     "text": [
      "40058\n"
     ]
    }
   ],
   "source": [
    "len_left = len(left)\n",
    "len_right = len(right)\n",
    "\n",
    "labels = np.append(np.zeros(len_left), np.ones(len_right))\n",
    "print(len(labels))"
   ]
  },
  {
   "cell_type": "code",
   "execution_count": 52,
   "metadata": {},
   "outputs": [
    {
     "data": {
      "text/plain": [
       "0.82003594787558043"
      ]
     },
     "execution_count": 52,
     "metadata": {},
     "output_type": "execute_result"
    }
   ],
   "source": [
    "from sklearn.naive_bayes import BernoulliNB\n",
    "\n",
    "classifier = BernoulliNB()\n",
    "\n",
    "classifier.fit(converted_data, labels)\n",
    "classifier.score(converted_data, labels)"
   ]
  },
  {
   "cell_type": "code",
   "execution_count": 43,
   "metadata": {},
   "outputs": [
    {
     "name": "stdout",
     "output_type": "stream",
     "text": [
      "Edgar_McMuffin\n",
      "['thesimpsons', 'prequelmemes', 'pics', 'teenagersnew', 'askreddit', 'news', 'funny', 'kingofthehill', 'disneyvacation', 'rickandmorty', 'the_mueller', 'imgoingtohellforthis', 'gamingsuggestions']\n"
     ]
    }
   ],
   "source": [
    "import random\n",
    "\n",
    "user = random.choice(list(left))\n",
    "print(user)\n",
    "print(left[user])"
   ]
  },
  {
   "cell_type": "code",
   "execution_count": 44,
   "metadata": {},
   "outputs": [],
   "source": [
    "a = mlb.transform([left[user]])"
   ]
  },
  {
   "cell_type": "code",
   "execution_count": 47,
   "metadata": {},
   "outputs": [
    {
     "name": "stdout",
     "output_type": "stream",
     "text": [
      "18069\n",
      "[[0 0 0 ..., 0 0 0]]\n"
     ]
    }
   ],
   "source": [
    "print(len(a[0]))\n",
    "print(a)"
   ]
  },
  {
   "cell_type": "code",
   "execution_count": 50,
   "metadata": {},
   "outputs": [
    {
     "data": {
      "text/plain": [
       "array([[ 0.8514864,  0.1485136]])"
      ]
     },
     "execution_count": 50,
     "metadata": {},
     "output_type": "execute_result"
    }
   ],
   "source": [
    "classifier.predict_proba(a)"
   ]
  },
  {
   "cell_type": "code",
   "execution_count": 51,
   "metadata": {},
   "outputs": [
    {
     "data": {
      "text/plain": [
       "0.82355584402616211"
      ]
     },
     "execution_count": 51,
     "metadata": {},
     "output_type": "execute_result"
    }
   ],
   "source": [
    "classifier.score(converted_data, labels)"
   ]
  },
  {
   "cell_type": "code",
   "execution_count": null,
   "metadata": {},
   "outputs": [
    {
     "name": "stdout",
     "output_type": "stream",
     "text": [
      "0.0\n"
     ]
    },
    {
     "name": "stderr",
     "output_type": "stream",
     "text": [
      "/Users/AjayK/anaconda3/lib/python3.6/site-packages/sklearn/naive_bayes.py:472: UserWarning: alpha too small will result in numeric errors, setting alpha = 1.0e-10\n",
      "  'setting alpha = %.1e' % _ALPHA_MIN)\n"
     ]
    },
    {
     "name": "stdout",
     "output_type": "stream",
     "text": [
      "0.25\n",
      "0.5\n",
      "0.75\n",
      "1.0\n",
      "1.25\n"
     ]
    }
   ],
   "source": [
    "best_alpha = 0\n",
    "best_accuracy = 0\n",
    "\n",
    "accuracies = []\n",
    "\n",
    "for alpha in range(0, 40):\n",
    "    alpha = alpha/4\n",
    "    print(alpha)\n",
    "    classifier = BernoulliNB(alpha=alpha)\n",
    "\n",
    "    classifier.fit(converted_data, labels)\n",
    "    accuracy = classifier.score(converted_data, labels)\n",
    "    accuracies.append(accuracy)\n",
    "    if(accuracy > best_accuracy):\n",
    "        best_alpha = alpha"
   ]
  },
  {
   "cell_type": "code",
   "execution_count": null,
   "metadata": {
    "collapsed": true
   },
   "outputs": [],
   "source": []
  }
 ],
 "metadata": {
  "kernelspec": {
   "display_name": "Python 3",
   "language": "python",
   "name": "python3"
  },
  "language_info": {
   "codemirror_mode": {
    "name": "ipython",
    "version": 3
   },
   "file_extension": ".py",
   "mimetype": "text/x-python",
   "name": "python",
   "nbconvert_exporter": "python",
   "pygments_lexer": "ipython3",
   "version": "3.6.3"
  }
 },
 "nbformat": 4,
 "nbformat_minor": 2
}
