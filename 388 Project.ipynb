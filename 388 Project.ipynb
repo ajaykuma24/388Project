{
 "cells": [
  {
   "cell_type": "markdown",
   "metadata": {},
   "source": [
    "HALP"
   ]
  },
  {
   "cell_type": "code",
   "execution_count": 19,
   "metadata": {
    "collapsed": true
   },
   "outputs": [],
   "source": [
    "import json\n",
    "import numpy as np"
   ]
  },
  {
   "cell_type": "code",
   "execution_count": 3,
   "metadata": {},
   "outputs": [],
   "source": [
    "with open('reddit data/all_subs.json') as subs_json:\n",
    "    subreddits = json.load(subs_json)"
   ]
  },
  {
   "cell_type": "code",
   "execution_count": null,
   "metadata": {},
   "outputs": [],
   "source": [
    "print(subreddits)"
   ]
  },
  {
   "cell_type": "code",
   "execution_count": 6,
   "metadata": {
    "collapsed": true
   },
   "outputs": [],
   "source": [
    "with open('reddit data/left.json') as left_json:\n",
    "    left = json.load(left_json)\n",
    "with open('reddit data/right.json') as right_json:\n",
    "    right = json.load(right_json)"
   ]
  },
  {
   "cell_type": "code",
   "execution_count": 15,
   "metadata": {},
   "outputs": [
    {
     "name": "stdout",
     "output_type": "stream",
     "text": [
      "Left User Count: 22059, Right User Count: 17999\n"
     ]
    }
   ],
   "source": [
    "print(\"Left User Count: %d, Right User Count: %d\" % (len(left), len(right)))"
   ]
  },
  {
   "cell_type": "code",
   "execution_count": 17,
   "metadata": {},
   "outputs": [],
   "source": [
    "all_data = []\n",
    "\n",
    "for _, subs in left.items():\n",
    "    all_data.append(subs)\n",
    "    \n",
    "\n",
    "for _, subs in right.items():\n",
    "    all_data.append(subs)"
   ]
  },
  {
   "cell_type": "code",
   "execution_count": 21,
   "metadata": {},
   "outputs": [],
   "source": [
    "from sklearn.preprocessing import MultiLabelBinarizer\n",
    "\n",
    "num_samples = len(left) + len(right)\n",
    "num_subs = len(subreddits)\n",
    "\n",
    "samples = np.empty((num_samples, num_subs))\n",
    "\n",
    "mlb = MultiLabelBinarizer()\n",
    "\n",
    "converted_data = mlb.fit_transform(all_data)\n",
    "\n",
    "\n"
   ]
  },
  {
   "cell_type": "code",
   "execution_count": 25,
   "metadata": {},
   "outputs": [
    {
     "name": "stdout",
     "output_type": "stream",
     "text": [
      "40058\n",
      "18069\n",
      "18069\n"
     ]
    }
   ],
   "source": [
    "print(len(converted_data))"
   ]
  },
  {
   "cell_type": "code",
   "execution_count": 49,
   "metadata": {},
   "outputs": [
    {
     "name": "stdout",
     "output_type": "stream",
     "text": [
      "40058\n"
     ]
    }
   ],
   "source": [
    "len_left = len(left)\n",
    "len_right = len(right)\n",
    "\n",
    "labels = np.append(np.zeros(len_left), np.ones(len_right))\n",
    "print(len(labels))"
   ]
  },
  {
   "cell_type": "code",
   "execution_count": 52,
   "metadata": {},
   "outputs": [
    {
     "data": {
      "text/plain": [
       "0.82003594787558043"
      ]
     },
     "execution_count": 52,
     "metadata": {},
     "output_type": "execute_result"
    }
   ],
   "source": [
    "from sklearn.naive_bayes import BernoulliNB\n",
    "\n",
    "classifier = BernoulliNB()\n",
    "\n",
    "classifier.fit(converted_data, labels)\n",
    "classifier.score(converted_data, labels)"
   ]
  },
  {
   "cell_type": "code",
   "execution_count": 43,
   "metadata": {},
   "outputs": [
    {
     "name": "stdout",
     "output_type": "stream",
     "text": [
      "Edgar_McMuffin\n",
      "['thesimpsons', 'prequelmemes', 'pics', 'teenagersnew', 'askreddit', 'news', 'funny', 'kingofthehill', 'disneyvacation', 'rickandmorty', 'the_mueller', 'imgoingtohellforthis', 'gamingsuggestions']\n"
     ]
    }
   ],
   "source": [
    "import random\n",
    "\n",
    "user = random.choice(list(left))\n",
    "print(user)\n",
    "print(left[user])"
   ]
  },
  {
   "cell_type": "code",
   "execution_count": 44,
   "metadata": {},
   "outputs": [],
   "source": [
    "a = mlb.transform([left[user]])"
   ]
  },
  {
   "cell_type": "code",
   "execution_count": 47,
   "metadata": {},
   "outputs": [
    {
     "name": "stdout",
     "output_type": "stream",
     "text": [
      "18069\n",
      "[[0 0 0 ..., 0 0 0]]\n"
     ]
    }
   ],
   "source": [
    "print(len(a[0]))\n",
    "print(a)"
   ]
  },
  {
   "cell_type": "code",
   "execution_count": 50,
   "metadata": {},
   "outputs": [
    {
     "data": {
      "text/plain": [
       "array([[ 0.8514864,  0.1485136]])"
      ]
     },
     "execution_count": 50,
     "metadata": {},
     "output_type": "execute_result"
    }
   ],
   "source": [
    "classifier.predict_proba(a)"
   ]
  },
  {
   "cell_type": "code",
   "execution_count": 51,
   "metadata": {},
   "outputs": [
    {
     "data": {
      "text/plain": [
       "0.82355584402616211"
      ]
     },
     "execution_count": 51,
     "metadata": {},
     "output_type": "execute_result"
    }
   ],
   "source": [
    "classifier.score(converted_data, labels)"
   ]
  },
  {
   "cell_type": "code",
   "execution_count": 56,
   "metadata": {},
   "outputs": [
    {
     "name": "stdout",
     "output_type": "stream",
     "text": [
      "0.0\n"
     ]
    },
    {
     "name": "stderr",
     "output_type": "stream",
     "text": [
      "/Users/AjayK/anaconda3/lib/python3.6/site-packages/sklearn/naive_bayes.py:472: UserWarning: alpha too small will result in numeric errors, setting alpha = 1.0e-10\n",
      "  'setting alpha = %.1e' % _ALPHA_MIN)\n"
     ]
    },
    {
     "name": "stdout",
     "output_type": "stream",
     "text": [
      "0.25\n",
      "0.5\n",
      "0.75\n",
      "1.0\n",
      "1.25\n",
      "1.5\n",
      "1.75\n",
      "2.0\n",
      "2.25\n",
      "2.5\n",
      "2.75\n",
      "3.0\n",
      "3.25\n",
      "3.5\n",
      "3.75\n",
      "4.0\n",
      "4.25\n",
      "4.5\n",
      "4.75\n",
      "5.0\n",
      "5.25\n",
      "5.5\n",
      "5.75\n",
      "6.0\n",
      "6.25\n",
      "6.5\n",
      "6.75\n",
      "7.0\n",
      "7.25\n",
      "7.5\n",
      "7.75\n",
      "8.0\n",
      "8.25\n",
      "8.5\n",
      "8.75\n",
      "9.0\n",
      "9.25\n",
      "9.5\n",
      "9.75\n"
     ]
    }
   ],
   "source": [
    "best_alpha = 0\n",
    "best_accuracy = 0\n",
    "\n",
    "accuracies = []\n",
    "\n",
    "for alpha in range(0, 40):\n",
    "    alpha = alpha/4\n",
    "    print(alpha)\n",
    "    classifier = BernoulliNB(alpha=alpha)\n",
    "\n",
    "    classifier.fit(converted_data, labels)\n",
    "    accuracy = classifier.score(converted_data, labels)\n",
    "    accuracies.append(accuracy)\n",
    "    if(accuracy > best_accuracy):\n",
    "        best_alpha = alpha\n",
    "        best_accuracy = accuracy"
   ]
  },
  {
   "cell_type": "code",
   "execution_count": 57,
   "metadata": {},
   "outputs": [
    {
     "name": "stdout",
     "output_type": "stream",
     "text": [
      "[0.84499975036197517, 0.82882320635079132, 0.82635178990463831, 0.82475410654550896, 0.82355584402616211, 0.82288182135902943, 0.82260721953167903, 0.82243247291427435, 0.82218283488941035, 0.82238254530930155, 0.82265714713665183, 0.82310649558140692, 0.82318138698886612, 0.82338109740875731, 0.82380548205102599, 0.82395526486594439, 0.82445454091567227, 0.82515352738529135, 0.82547805681761444, 0.82575265864496483, 0.82615207948474711, 0.8265515003245294, 0.82735034200409407, 0.82767487143641716, 0.82817414748614504, 0.82879824254830492, 0.82927255479554651, 0.82987168605521988, 0.83064556393229816, 0.83124469519197164, 0.83164411603175392, 0.8323680663038594, 0.83304208897099208, 0.83359129262569276, 0.83409056867542064, 0.83461480852763492, 0.8354885416146588, 0.83621249188676416, 0.83693644215886964, 0.83791003045583901]\n"
     ]
    }
   ],
   "source": [
    "print(accuracies)"
   ]
  },
  {
   "cell_type": "code",
   "execution_count": 58,
   "metadata": {
    "collapsed": true
   },
   "outputs": [],
   "source": [
    "import matplotlib\n",
    "matplotlib.use(\"svg\")\n",
    "# AUTOLAB_IGNORE_START\n",
    "%matplotlib inline\n",
    "# AUTOLAB_IGNORE_STOP\n",
    "import matplotlib.pyplot as plt\n",
    "plt.style.use(\"ggplot\")"
   ]
  },
  {
   "cell_type": "code",
   "execution_count": 60,
   "metadata": {},
   "outputs": [],
   "source": [
    "alphas = [x/4 for x in range(0, 40)]"
   ]
  },
  {
   "cell_type": "code",
   "execution_count": 63,
   "metadata": {},
   "outputs": [
    {
     "data": {
      "text/plain": [
       "[<matplotlib.lines.Line2D at 0x10d290320>]"
      ]
     },
     "execution_count": 63,
     "metadata": {},
     "output_type": "execute_result"
    },
    {
     "data": {
      "image/png": "[encoded data removed]",
      "text/plain": [
       "<matplotlib.figure.Figure at 0x10d2d9390>"
      ]
     },
     "metadata": {},
     "output_type": "display_data"
    }
   ],
   "source": [
    "plt.plot(alphas, accuracies)"
   ]
  },
  {
   "cell_type": "code",
   "execution_count": 64,
   "metadata": {
    "scrolled": true
   },
   "outputs": [
    {
     "name": "stdout",
     "output_type": "stream",
     "text": [
      "10 0.838459234111\n",
      "11 0.841255179989\n",
      "12 0.844625293325\n",
      "13 0.847446203006\n",
      "14 0.850491786909\n",
      "15 0.853787008837\n",
      "16 0.856857556543\n",
      "17 0.860302561286\n",
      "18 0.863922312647\n",
      "19 0.866518548105\n",
      "20 0.870063408058\n",
      "21 0.873658195616\n",
      "22 0.876229467272\n",
      "23 0.877852114434\n",
      "24 0.883119476759\n",
      "25 0.889485246393\n",
      "26 0.891607169604\n",
      "27 0.890858255529\n",
      "28 0.889510210195\n",
      "29 0.888062309651\n",
      "30 0.887612961206\n",
      "31 0.88564082081\n",
      "32 0.883643716611\n",
      "33 0.881671576214\n",
      "34 0.879125268361\n",
      "35 0.876978381347\n",
      "36 0.873882869839\n",
      "37 0.871061960158\n",
      "38 0.867916521044\n",
      "39 0.864396624894\n"
     ]
    }
   ],
   "source": [
    "for alpha in range(10, 40):\n",
    "    classifier = BernoulliNB(alpha=alpha)\n",
    "\n",
    "    classifier.fit(converted_data, labels)\n",
    "    accuracy = classifier.score(converted_data, labels)\n",
    "    print(alpha, accuracy)\n",
    "    accuracies.append(accuracy)\n",
    "    if(accuracy > best_accuracy):\n",
    "        best_alpha = alpha\n",
    "        best_accuracy = accuracy"
   ]
  },
  {
   "cell_type": "code",
   "execution_count": 65,
   "metadata": {},
   "outputs": [
    {
     "name": "stdout",
     "output_type": "stream",
     "text": [
      "[0.0, 0.25, 0.5, 0.75, 1.0, 1.25, 1.5, 1.75, 2.0, 2.25, 2.5, 2.75, 3.0, 3.25, 3.5, 3.75, 4.0, 4.25, 4.5, 4.75, 5.0, 5.25, 5.5, 5.75, 6.0, 6.25, 6.5, 6.75, 7.0, 7.25, 7.5, 7.75, 8.0, 8.25, 8.5, 8.75, 9.0, 9.25, 9.5, 9.75, 10, 11, 12, 13, 14, 15, 16, 17, 18, 19, 20, 21, 22, 23, 24, 25, 26, 27, 28, 29, 30, 31, 32, 33, 34, 35, 36, 37, 38, 39]\n",
      "70\n",
      "70\n"
     ]
    }
   ],
   "source": [
    "alphas = [x/4 for x in range(0, 40)] + [x for x in range(10, 40)]\n",
    "print(alphas)\n",
    "print(len(alphas))\n",
    "print(len(accuracies))"
   ]
  },
  {
   "cell_type": "code",
   "execution_count": 66,
   "metadata": {},
   "outputs": [
    {
     "data": {
      "text/plain": [
       "[<matplotlib.lines.Line2D at 0x104de0d30>]"
      ]
     },
     "execution_count": 66,
     "metadata": {},
     "output_type": "execute_result"
    },
    {
     "data": {
      "image/png": "[encoded data removed]",
      "text/plain": [
       "<matplotlib.figure.Figure at 0x10d29ba58>"
      ]
     },
     "metadata": {},
     "output_type": "display_data"
    }
   ],
   "source": [
    "plt.plot(alphas, accuracies)"
   ]
  },
  {
   "cell_type": "code",
   "execution_count": 69,
   "metadata": {},
   "outputs": [
    {
     "data": {
      "text/plain": [
       "26"
      ]
     },
     "execution_count": 69,
     "metadata": {},
     "output_type": "execute_result"
    }
   ],
   "source": [
    "best_alpha"
   ]
  },
  {
   "cell_type": "code",
   "execution_count": 70,
   "metadata": {},
   "outputs": [
    {
     "name": "stdout",
     "output_type": "stream",
     "text": [
      "25.0 0.889485246393\n",
      "25.1 0.889385391183\n",
      "25.2 0.890633581307\n",
      "25.3 0.890958110739\n",
      "25.4 0.890983074542\n",
      "25.5 0.891182784962\n",
      "25.6 0.891207748764\n",
      "25.7 0.891232712567\n",
      "25.8 0.891357531579\n",
      "25.9 0.891582205802\n",
      "26.0 0.891607169604\n",
      "26.1 0.891632133407\n",
      "26.2 0.891657097209\n",
      "26.3 0.891607169604\n",
      "26.4 0.891482350592\n",
      "26.5 0.891282640172\n",
      "26.6 0.891307603974\n",
      "26.7 0.891232712567\n",
      "26.8 0.891057965949\n",
      "26.9 0.891033002147\n"
     ]
    }
   ],
   "source": [
    "new_acc = []\n",
    "best_acc2 = 0\n",
    "best_alpha_2 = 0\n",
    "\n",
    "for alpha in range(250, 270):\n",
    "    alpha = alpha/10\n",
    "    classifier = BernoulliNB(alpha=alpha)\n",
    "\n",
    "    classifier.fit(converted_data, labels)\n",
    "    accuracy = classifier.score(converted_data, labels)\n",
    "    print(alpha, accuracy)\n",
    "    new_acc.append(accuracy)\n",
    "    if(accuracy > best_acc2):\n",
    "        best_alpha_2 = alpha\n",
    "        best_acc2 = accuracy"
   ]
  },
  {
   "cell_type": "code",
   "execution_count": null,
   "metadata": {
    "collapsed": true
   },
   "outputs": [],
   "source": []
  }
 ],
 "metadata": {
  "kernelspec": {
   "display_name": "Python 3",
   "language": "python",
   "name": "python3"
  },
  "language_info": {
   "codemirror_mode": {
    "name": "ipython",
    "version": 3
   },
   "file_extension": ".py",
   "mimetype": "text/x-python",
   "name": "python",
   "nbconvert_exporter": "python",
   "pygments_lexer": "ipython3",
   "version": "3.6.3"
  }
 },
 "nbformat": 4,
 "nbformat_minor": 2
}
