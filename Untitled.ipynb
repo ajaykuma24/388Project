{
 "cells": [
  {
   "cell_type": "markdown",
   "metadata": {},
   "source": [
    "We decided that the approrpiate way to approach the problem was to garner user data from politicized subreddits and see how the spread themselves across the general subreddits. We gathered this user data using PRAW, the Python Reddit API Wrapper to collect data from the Reddit API.  \n",
    "\n",
    "To gather training data, we created a list of left-leaning and right-leaning subreddits and gathered lists of contributors and the subreddits they contributed to. The idea was that these users could be classified as left-users and right-users respectively. By looking at the subreddits that they contribute too regularly, we could see the number of contributers for each subreddit on the right and left. Because each redditor’s subscription information is private, \n",
    "we used each user’s top 100 comments of the past month to determine which subreddits they recently contributed to. For the training data, we were able to collect: 17999 Redditors in right-leaning subreddits, 22059 Redditors in left-leaning subreddits, for a total of 659,005 total contributions to unique subreddits.\n",
    "\n",
    "For test data, we collected  30771 Redditors who participated in discussion on the top posts of the month across all of Reddit (which to be sure does not include any posts from the subreddits in the test data). The idea here being that we would be able to classify these users using an classifier trained on the training data, to get a better understanding of how this relates to mainstream reddit. The test data ended up being comprised of 538602 total contributions to unique subreddits.\n"
   ]
  },
  {
   "cell_type": "code",
   "execution_count": null,
   "metadata": {
    "collapsed": true
   },
   "outputs": [],
   "source": [
    "import praw, json, sys\n",
    "from pprint import pprint\n",
    "\n",
    "reddit = praw.Reddit(client_id=sys.argv[1],\n",
    "                     client_secret=sys.argv[2],\n",
    "                     user_agent='Mozilla/5.0 (X11; Linux x86_64) AppleWebKit/537.36 \\\n",
    "                     (KHTML, like Gecko) Chrome/44.0.2403.157 Safari/537.36')\n",
    "sub = sys.argv[3].lower()\n",
    "print(sub)\n",
    "\n",
    "users = set()\n",
    "usernames = set()\n",
    "user_subs = dict()\n",
    "\n",
    "with open('users/' + sub + '.json', 'w') as f:\n",
    "    subreddit = reddit.subreddit(sub)\n",
    "    for post in subreddit.top('month'): # search 100 top posts of the month\n",
    "        post.comments.replace_more(limit=None) # all comments on each post\n",
    "        comments = post.comments.list()\n",
    "        for comment in comments:\n",
    "            if comment.author != None:\n",
    "                users.add(comment.author)\n",
    "                usernames.add(comment.author.name)\n",
    "                subs = user_subs.get(comment.author.name, set())\n",
    "                subs.add(sub)\n",
    "                user_subs[comment.author.name] = subs\n",
    "\n",
    "    json.dump(list(usernames), f, separators=(',', ':'))\n",
    "\n",
    "print(len(usernames))\n",
    "with open('subs/' + sub + '.json', 'w') as f:\n",
    "    for user in list(users):\n",
    "        try:\n",
    "            for comment in user.comments.top('month'): # search 100 top comments\n",
    "                subs = user_subs[user.name]\n",
    "                subs.add(str(comment.subreddit).lower())\n",
    "                user_subs[user.name] = subs\n",
    "        except:\n",
    "            pass\n",
    "    for user in user_subs:\n",
    "        user_subs[user] = list(user_subs[user])\n",
    "    json.dump(user_subs, f, separators=(',', ':'))\n",
    "print(\"done\")"
   ]
  }
 ],
 "metadata": {
  "kernelspec": {
   "display_name": "Python 3",
   "language": "python",
   "name": "python3"
  },
  "language_info": {
   "codemirror_mode": {
    "name": "ipython",
    "version": 3
   },
   "file_extension": ".py",
   "mimetype": "text/x-python",
   "name": "python",
   "nbconvert_exporter": "python",
   "pygments_lexer": "ipython3",
   "version": "3.6.3"
  }
 },
 "nbformat": 4,
 "nbformat_minor": 2
}
